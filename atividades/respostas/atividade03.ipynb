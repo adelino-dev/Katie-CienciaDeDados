{
  "nbformat": 4,
  "nbformat_minor": 0,
  "metadata": {
    "colab": {
      "name": "Katie - Atividade 03.ipynb",
      "provenance": [],
      "toc_visible": true,
      "authorship_tag": "ABX9TyOH6PIrtkRIinGYIwkzzCc4",
      "include_colab_link": true
    },
    "kernelspec": {
      "name": "python3",
      "display_name": "Python 3"
    },
    "language_info": {
      "name": "python"
    }
  },
  "cells": [
    {
      "cell_type": "markdown",
      "metadata": {
        "id": "view-in-github",
        "colab_type": "text"
      },
      "source": [
        "<a href=\"https://colab.research.google.com/github/adelino-dev/Katie-CienciaDeDados/blob/main/atividades/respostas/atividade03.ipynb\" target=\"_parent\"><img src=\"https://colab.research.google.com/assets/colab-badge.svg\" alt=\"Open In Colab\"/></a>"
      ]
    },
    {
      "cell_type": "markdown",
      "source": [
        "# ATIVIDADE 03 - INTRODUÇÃO AO PYTHON\n",
        "MINICURSO DE CIÊNCIA DE DADOS | Katies\n",
        "\n",
        "Adelino Martins\n"
      ],
      "metadata": {
        "id": "fKNyBGrZRI2o"
      }
    },
    {
      "cell_type": "markdown",
      "source": [
        "## Exercício 1\n",
        "\n",
        "Crie uma estrutura que pergunte ao usuário qual o dia da semana. Se o dia\n",
        "for igual a Domingo ou igual a sábado, imprima na tela \"Hoje é dia de descanso\", caso contrário imprima na tela \"Você precisa trabalhar!\""
      ],
      "metadata": {
        "id": "DZ315VmkRNtG"
      }
    },
    {
      "cell_type": "code",
      "source": [
        "dia = input(\"Que dia é hoje? \").upper()\n",
        "\n",
        "if dia in (\"DOMINGO\", \"SÁBADO\"):\n",
        "  print(\"Hoje é dia de descanso\")\n",
        "\n",
        "else:\n",
        "  print(\"Você precisa trabalhar!\")\n",
        "\n",
        "\n"
      ],
      "metadata": {
        "colab": {
          "base_uri": "https://localhost:8080/",
          "height": 0
        },
        "id": "6bRfp41ET4Bv",
        "outputId": "891e888b-ba73-48fe-ddd2-7e2c48203e1d"
      },
      "execution_count": 13,
      "outputs": [
        {
          "output_type": "stream",
          "name": "stdout",
          "text": [
            "Que dia é hoje? sábado\n",
            "Hoje é dia de descanso\n"
          ]
        }
      ]
    },
    {
      "cell_type": "markdown",
      "source": [
        "## Exercício 2\n",
        "Crie uma lista de 5 frutas e verifique se a fruta 'Morango' faz parte da lista"
      ],
      "metadata": {
        "id": "oEF8G0KvRVqd"
      }
    },
    {
      "cell_type": "code",
      "source": [
        "frutas = [\"Abacaxi\", \"Goiaba\", \"Maçã\", \"Uva\", \"Morango\"]\n",
        "\"Morango\" in frutas"
      ],
      "metadata": {
        "colab": {
          "base_uri": "https://localhost:8080/",
          "height": 0
        },
        "id": "f_tyZBfUWU5j",
        "outputId": "e34c94bd-f8b8-48bb-a9d0-30d67f712244"
      },
      "execution_count": 17,
      "outputs": [
        {
          "output_type": "execute_result",
          "data": {
            "text/plain": [
              "True"
            ]
          },
          "metadata": {},
          "execution_count": 17
        }
      ]
    },
    {
      "cell_type": "markdown",
      "source": [
        "## Exercício 3\n",
        "Crie uma tupla de 4 elementos, multiplique cada elemento da tupla por 2 e guarde os resultados em uma lista"
      ],
      "metadata": {
        "id": "u_eBSWf3RWc0"
      }
    },
    {
      "cell_type": "code",
      "source": [
        "tupla = (1, 2, 3, 4)\n",
        "lista = [i*2 for i in tupla]\n",
        "\n",
        "lista"
      ],
      "metadata": {
        "colab": {
          "base_uri": "https://localhost:8080/",
          "height": 0
        },
        "id": "gQLj25-nWuxt",
        "outputId": "dbadaac5-5d3d-4b89-8d5a-515dbffc8fad"
      },
      "execution_count": 18,
      "outputs": [
        {
          "output_type": "execute_result",
          "data": {
            "text/plain": [
              "[2, 4, 6, 8]"
            ]
          },
          "metadata": {},
          "execution_count": 18
        }
      ]
    },
    {
      "cell_type": "markdown",
      "source": [
        "## Exercício 4\n",
        "Crie uma sequência de números pares entre 100 e 150 e imprima na tela"
      ],
      "metadata": {
        "id": "TVvfZF5IRW_n"
      }
    },
    {
      "cell_type": "code",
      "source": [
        "for i in range(100, 151, 2):\n",
        "  print(i)"
      ],
      "metadata": {
        "colab": {
          "base_uri": "https://localhost:8080/",
          "height": 0
        },
        "id": "7FAV4OlkXIHt",
        "outputId": "8121bda6-60f9-4bec-8dcd-bb962ad18ba5"
      },
      "execution_count": 19,
      "outputs": [
        {
          "output_type": "stream",
          "name": "stdout",
          "text": [
            "100\n",
            "102\n",
            "104\n",
            "106\n",
            "108\n",
            "110\n",
            "112\n",
            "114\n",
            "116\n",
            "118\n",
            "120\n",
            "122\n",
            "124\n",
            "126\n",
            "128\n",
            "130\n",
            "132\n",
            "134\n",
            "136\n",
            "138\n",
            "140\n",
            "142\n",
            "144\n",
            "146\n",
            "148\n",
            "150\n"
          ]
        }
      ]
    },
    {
      "cell_type": "markdown",
      "source": [
        "## Exercício 5\n",
        "Crie uma variável chamada temperatura e atribua o valor 40. Enquanto temperatura for maior que 35, imprima as temperaturas na tela"
      ],
      "metadata": {
        "id": "x7722hFRRZCA"
      }
    },
    {
      "cell_type": "code",
      "source": [
        "temperatura = 40\n",
        "while temperatura > 35:\n",
        "  print(temperatura)\n",
        "  temperatura -= 1"
      ],
      "metadata": {
        "colab": {
          "base_uri": "https://localhost:8080/",
          "height": 0
        },
        "id": "3mSldndlXce2",
        "outputId": "06fe4b81-3cd3-4737-cb2e-6e31a368f847"
      },
      "execution_count": 23,
      "outputs": [
        {
          "output_type": "stream",
          "name": "stdout",
          "text": [
            "40\n",
            "39\n",
            "38\n",
            "37\n",
            "36\n"
          ]
        }
      ]
    },
    {
      "cell_type": "markdown",
      "source": [
        "## Exercício 6\n",
        "Crie uma variável chamada contador = 0. Enquanto contador for menor que 100, imprima os valores na tela, mas quando for encontrado o valor 23, interrompa a\n",
        "execução do programa"
      ],
      "metadata": {
        "id": "FhT4IKB9RZTN"
      }
    },
    {
      "cell_type": "code",
      "source": [
        "contador = 0\n",
        "while contador < 100:\n",
        "  print(contador)\n",
        "  contador += 1\n",
        "  \n",
        "  if contador == 23:\n",
        "    break\n",
        "  \n"
      ],
      "metadata": {
        "colab": {
          "base_uri": "https://localhost:8080/",
          "height": 0
        },
        "id": "FGJDnlz5X1nb",
        "outputId": "7281a910-cb0d-40ce-a502-b32367eb0f6f"
      },
      "execution_count": 24,
      "outputs": [
        {
          "output_type": "stream",
          "name": "stdout",
          "text": [
            "0\n",
            "1\n",
            "2\n",
            "3\n",
            "4\n",
            "5\n",
            "6\n",
            "7\n",
            "8\n",
            "9\n",
            "10\n",
            "11\n",
            "12\n",
            "13\n",
            "14\n",
            "15\n",
            "16\n",
            "17\n",
            "18\n",
            "19\n",
            "20\n",
            "21\n",
            "22\n"
          ]
        }
      ]
    },
    {
      "cell_type": "markdown",
      "source": [
        "## Exercício 7\n",
        "Crie uma lista vazia e uma variável com valor 4. Enquanto o valor da variável for menor ou igual a 20, adicione à lista, apenas os valores pares e imprima a lista"
      ],
      "metadata": {
        "id": "8lH0XRCcRZj2"
      }
    },
    {
      "cell_type": "code",
      "source": [
        "lista = []\n",
        "variavel = 4\n",
        "\n",
        "while variavel <= 20:\n",
        "  lista.append(variavel)\n",
        "  variavel += 2\n",
        "\n",
        "lista"
      ],
      "metadata": {
        "colab": {
          "base_uri": "https://localhost:8080/",
          "height": 0
        },
        "id": "npG2znc9TLIR",
        "outputId": "85b3ae36-8fb4-4365-e472-db075773f85a"
      },
      "execution_count": 25,
      "outputs": [
        {
          "output_type": "execute_result",
          "data": {
            "text/plain": [
              "[4, 6, 8, 10, 12, 14, 16, 18, 20]"
            ]
          },
          "metadata": {},
          "execution_count": 25
        }
      ]
    },
    {
      "cell_type": "markdown",
      "source": [
        "## Exercício 8\n",
        "Faça a correção dos erros no código abaixo e execute o programa. Dica: são 3 erros.\n",
        "\n",
        "```python\n",
        "temperatura = float(input('Qual a temperatura? '))\n",
        "if temperatura > 30\n",
        "print('Vista roupas leves.')\n",
        "else\n",
        "  print('Busque seus casacos.')\n",
        "```"
      ],
      "metadata": {
        "id": "1q5dbH2GRZ13"
      }
    },
    {
      "cell_type": "code",
      "source": [
        "temperatura = float(input('Qual a temperatura? '))\n",
        "if temperatura > 30:\n",
        "  print('Vista roupas leves.')\n",
        "else:\n",
        "  print('Busque seus casacos.')"
      ],
      "metadata": {
        "colab": {
          "base_uri": "https://localhost:8080/",
          "height": 0
        },
        "id": "u-hWhVZQS1k9",
        "outputId": "319f3e5a-9465-45ef-edf5-c642222a43f4"
      },
      "execution_count": 2,
      "outputs": [
        {
          "output_type": "stream",
          "name": "stdout",
          "text": [
            "Qual a temperatura? 2\n",
            "Busque seus casacos.\n"
          ]
        }
      ]
    },
    {
      "cell_type": "markdown",
      "source": [
        "## Exercício 9\n",
        "Faça um programa que conte quantas vezes a letra \"r\" aparece na frase\n",
        "abaixo.\n",
        "\n",
        "```python\n",
        "frase = \"É melhor, muito melhor, contentar-se com a realidade; se ela não é tão brilhante como os sonhos, tem pelo menos a vantagem de existir.\"\n",
        "\n",
        "```"
      ],
      "metadata": {
        "id": "b04t0rhwRaGe"
      }
    },
    {
      "cell_type": "code",
      "source": [
        "frase = \"É melhor, muito melhor, contentar-se com a realidade; se ela não é tão brilhante como os sonhos, tem pelo menos a vantagem de existir.\"\n",
        "frase.count(\"r\")"
      ],
      "metadata": {
        "colab": {
          "base_uri": "https://localhost:8080/",
          "height": 0
        },
        "id": "KQb0mKsSSmSu",
        "outputId": "535aa908-cd41-48be-8ba8-f2cc460ac3d4"
      },
      "execution_count": 1,
      "outputs": [
        {
          "output_type": "execute_result",
          "data": {
            "text/plain": [
              "6"
            ]
          },
          "metadata": {},
          "execution_count": 1
        }
      ]
    }
  ]
}