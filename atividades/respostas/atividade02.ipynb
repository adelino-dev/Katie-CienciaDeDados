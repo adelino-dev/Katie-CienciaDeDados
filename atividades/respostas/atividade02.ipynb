{
  "nbformat": 4,
  "nbformat_minor": 0,
  "metadata": {
    "colab": {
      "name": "Katie - Atividade 2.ipynb",
      "provenance": [],
      "toc_visible": true,
      "authorship_tag": "ABX9TyNZRJw0dXzFUWLgw3YPqxnD",
      "include_colab_link": true
    },
    "kernelspec": {
      "name": "python3",
      "display_name": "Python 3"
    },
    "language_info": {
      "name": "python"
    }
  },
  "cells": [
    {
      "cell_type": "markdown",
      "metadata": {
        "id": "view-in-github",
        "colab_type": "text"
      },
      "source": [
        "<a href=\"https://colab.research.google.com/github/adelino-dev/Katie-CienciaDeDados/blob/main/atividades/respostas/atividade02.ipynb\" target=\"_parent\"><img src=\"https://colab.research.google.com/assets/colab-badge.svg\" alt=\"Open In Colab\"/></a>"
      ]
    },
    {
      "cell_type": "markdown",
      "source": [
        "# ATIVIDADE 02 - INTRODUÇÃO AO PYTHON\n",
        "MINICURSO DE CIÊNCIA DE DADOS | Katie\n",
        "\n",
        "Adelino Martins\n"
      ],
      "metadata": {
        "id": "BWHOU1B7zr60"
      }
    },
    {
      "cell_type": "markdown",
      "source": [
        "## Exercício 1\n",
        "Crie uma função que imprima a sequência de números pares entre 1 e 20 (a função não recebe parâmetro) e depois faça uma chamada à função para listar os números"
      ],
      "metadata": {
        "id": "TYw_2zECz3ZZ"
      }
    },
    {
      "cell_type": "code",
      "source": [
        "def printPares():\n",
        "  for p in range(2,21,2):\n",
        "    print(p)\n",
        "\n",
        "printPares()"
      ],
      "metadata": {
        "colab": {
          "base_uri": "https://localhost:8080/"
        },
        "id": "xKK_w6V81KLU",
        "outputId": "d00d8761-c16d-4c15-fa11-a9edc91d366e"
      },
      "execution_count": null,
      "outputs": [
        {
          "output_type": "stream",
          "name": "stdout",
          "text": [
            "2\n",
            "4\n",
            "6\n",
            "8\n",
            "10\n",
            "12\n",
            "14\n",
            "16\n",
            "18\n",
            "20\n"
          ]
        }
      ]
    },
    {
      "cell_type": "markdown",
      "source": [
        "## Exercício 2\n",
        "Crie uma função que receba uma string como argumento e retorne a mesma string em letras maiúsculas. Faça uma chamada à função, passando como parâmetro uma string"
      ],
      "metadata": {
        "id": "hySg7pEzz4Pk"
      }
    },
    {
      "cell_type": "code",
      "source": [
        "def captalize(string):\n",
        "  return string.upper()\n",
        "\n",
        "captalize(\"exemplo\")"
      ],
      "metadata": {
        "colab": {
          "base_uri": "https://localhost:8080/",
          "height": 35
        },
        "id": "9iALSsiW13M1",
        "outputId": "2ec9db67-545c-4c25-e141-4f1a5b681980"
      },
      "execution_count": null,
      "outputs": [
        {
          "output_type": "execute_result",
          "data": {
            "text/plain": [
              "'EXEMPLO'"
            ],
            "application/vnd.google.colaboratory.intrinsic+json": {
              "type": "string"
            }
          },
          "metadata": {},
          "execution_count": 3
        }
      ]
    },
    {
      "cell_type": "markdown",
      "source": [
        "## Exercício 3\n",
        "Crie uma função que receba como parâmetro uma lista de 4 elementos, adicione 2 elementos a lista e imprima a lista"
      ],
      "metadata": {
        "id": "TFZnNU7ez5ST"
      }
    },
    {
      "cell_type": "code",
      "source": [
        "def addElementos(lista):\n",
        "  lista += [5, 6]\n",
        "  print(lista)\n",
        "\n",
        "lista = [1, 2, 3, 4]\n",
        "addElementos(lista)"
      ],
      "metadata": {
        "colab": {
          "base_uri": "https://localhost:8080/"
        },
        "id": "EmSle4bg286s",
        "outputId": "749e5576-c93f-4384-d817-e56b59aae22b"
      },
      "execution_count": null,
      "outputs": [
        {
          "output_type": "stream",
          "name": "stdout",
          "text": [
            "[1, 2, 3, 4, 5, 6]\n"
          ]
        }
      ]
    },
    {
      "cell_type": "markdown",
      "source": [
        "## Exercício 4\n",
        "Crie uma função que receba um argumento formal e uma possível lista de elementos. Faça duas chamadas à função, com apenas 1 elemento e na segunda chamada com 4 elementos"
      ],
      "metadata": {
        "id": "OMt1gK8Gz6Xa"
      }
    },
    {
      "cell_type": "code",
      "source": [
        "def funcao(arg1, *args):\n",
        "  print(arg1)\n",
        "  for arg in args:\n",
        "    print(arg)\n",
        "\n",
        "funcao(1)\n",
        "funcao(2, 3, 4, 5)\n"
      ],
      "metadata": {
        "colab": {
          "base_uri": "https://localhost:8080/"
        },
        "id": "Myzs_Pyg3rga",
        "outputId": "906a69b4-52ec-42ea-fa95-118d11d334d2"
      },
      "execution_count": null,
      "outputs": [
        {
          "output_type": "stream",
          "name": "stdout",
          "text": [
            "1\n",
            "2\n",
            "3\n",
            "4\n",
            "5\n"
          ]
        }
      ]
    },
    {
      "cell_type": "markdown",
      "source": [
        "## Exercício 5\n",
        "Crie uma função anônima e atribua seu retorno a uma variável chamada soma. A expressão vai receber 2 números como parâmetro e retornar a soma deles"
      ],
      "metadata": {
        "id": "t9BIsuxyz6ph"
      }
    },
    {
      "cell_type": "code",
      "source": [
        "somar = (lambda x,y: x+y)\n",
        "soma = somar(3, 2)\n",
        "soma"
      ],
      "metadata": {
        "colab": {
          "base_uri": "https://localhost:8080/"
        },
        "id": "JhBPAOTh5W_a",
        "outputId": "a834a5b5-9397-40fd-b797-e219acaa4623"
      },
      "execution_count": null,
      "outputs": [
        {
          "output_type": "execute_result",
          "data": {
            "text/plain": [
              "5"
            ]
          },
          "metadata": {},
          "execution_count": 49
        }
      ]
    },
    {
      "cell_type": "markdown",
      "source": [
        "## Exercício 6\n",
        "Execute o código abaixo e certifique-se que compreende a diferença entre variável global e local\n",
        "\n",
        "```python\n",
        "total = 0\n",
        "def soma( arg1, arg2 ):\n",
        "  total = arg1 + arg2;\n",
        "  print (\"Dentro da função o total é: \", total)\n",
        "  return total;\n",
        "\n",
        "soma( 10, 20 );\n",
        "print (\"Fora da função o total é: \", total)\n",
        "```"
      ],
      "metadata": {
        "id": "Mq_nEzrUz65i"
      }
    },
    {
      "cell_type": "code",
      "source": [
        "total = 0\n",
        "def soma( arg1, arg2 ):\n",
        "  total = arg1 + arg2;\n",
        "  print (\"Dentro da função o total é: \", total)\n",
        "  return total;\n",
        "\n",
        "soma( 10, 20 );\n",
        "print (\"Fora da função o total é: \", total)"
      ],
      "metadata": {
        "colab": {
          "base_uri": "https://localhost:8080/"
        },
        "id": "Tjb05i548S-W",
        "outputId": "3fc48055-b0e8-4a9f-97d5-6cc1fdf7416c"
      },
      "execution_count": null,
      "outputs": [
        {
          "output_type": "stream",
          "name": "stdout",
          "text": [
            "Dentro da função o total é:  30\n",
            "Fora da função o total é:  0\n"
          ]
        }
      ]
    },
    {
      "cell_type": "markdown",
      "source": [
        "## Exercício 7\n",
        "Abaixo você encontra uma lista com temperaturas em graus Celsius. Crie uma função anônima que converta cada temperatura para Fahrenheit Dica: para conseguir realizar este exercício, você deve criar sua função lambda, dentro de uma função). Isso permite aplicar sua função a cada elemento da lista. Como descobrir a fórmula matemática que converte de Celsius para Fahrenheit? Pesquise!!!\n",
        "\n",
        "```python\n",
        "Celsius = [39.2, 36.5, 37.3, 37.8]\n",
        "Fahrenheit = map(coloque_aqui_sua_função_lambda)\n",
        "print (list(Fahrenheit))\n",
        "```"
      ],
      "metadata": {
        "id": "Ljd5ubaKz7JB"
      }
    },
    {
      "cell_type": "code",
      "source": [
        "Celsius = [39.2, 36.5, 37.3, 37.8]\n",
        "Fahrenheit = map(lambda c: 1.8*c+32, Celsius)\n",
        "print (list(Fahrenheit))"
      ],
      "metadata": {
        "colab": {
          "base_uri": "https://localhost:8080/"
        },
        "id": "IpFw2dEb_RmX",
        "outputId": "b2fdeadc-cae4-4582-9e89-0980485ec5ee"
      },
      "execution_count": null,
      "outputs": [
        {
          "output_type": "stream",
          "name": "stdout",
          "text": [
            "[102.56, 97.7, 99.14, 100.03999999999999]\n"
          ]
        }
      ]
    },
    {
      "cell_type": "markdown",
      "source": [
        "## Exercício 8\n",
        "Crie um dicionário e liste todos os métodos e atributos do dicionário"
      ],
      "metadata": {
        "id": "vL4XoCwJz7cr"
      }
    },
    {
      "cell_type": "code",
      "source": [
        "dicionario = {\"a\":1, \"b\":2, \"c\":3}\n",
        "dir(dicionario)"
      ],
      "metadata": {
        "colab": {
          "base_uri": "https://localhost:8080/"
        },
        "id": "ZB3OESG7FIOW",
        "outputId": "d38b6fb1-7854-459d-9066-5222dd4ac42d"
      },
      "execution_count": null,
      "outputs": [
        {
          "output_type": "execute_result",
          "data": {
            "text/plain": [
              "['__class__',\n",
              " '__contains__',\n",
              " '__delattr__',\n",
              " '__delitem__',\n",
              " '__dir__',\n",
              " '__doc__',\n",
              " '__eq__',\n",
              " '__format__',\n",
              " '__ge__',\n",
              " '__getattribute__',\n",
              " '__getitem__',\n",
              " '__gt__',\n",
              " '__hash__',\n",
              " '__init__',\n",
              " '__init_subclass__',\n",
              " '__iter__',\n",
              " '__le__',\n",
              " '__len__',\n",
              " '__lt__',\n",
              " '__ne__',\n",
              " '__new__',\n",
              " '__reduce__',\n",
              " '__reduce_ex__',\n",
              " '__repr__',\n",
              " '__setattr__',\n",
              " '__setitem__',\n",
              " '__sizeof__',\n",
              " '__str__',\n",
              " '__subclasshook__',\n",
              " 'clear',\n",
              " 'copy',\n",
              " 'fromkeys',\n",
              " 'get',\n",
              " 'items',\n",
              " 'keys',\n",
              " 'pop',\n",
              " 'popitem',\n",
              " 'setdefault',\n",
              " 'update',\n",
              " 'values']"
            ]
          },
          "metadata": {},
          "execution_count": 56
        }
      ]
    }
  ]
}