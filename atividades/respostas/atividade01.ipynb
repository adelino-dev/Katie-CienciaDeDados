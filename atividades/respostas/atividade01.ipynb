{
  "nbformat": 4,
  "nbformat_minor": 0,
  "metadata": {
    "colab": {
      "name": "Katie - Atividade 01.ipynb",
      "provenance": [],
      "collapsed_sections": [],
      "toc_visible": true,
      "authorship_tag": "ABX9TyMuIIu7yRAxEInfEiYHfqas",
      "include_colab_link": true
    },
    "kernelspec": {
      "name": "python3",
      "display_name": "Python 3"
    },
    "language_info": {
      "name": "python"
    }
  },
  "cells": [
    {
      "cell_type": "markdown",
      "metadata": {
        "id": "view-in-github",
        "colab_type": "text"
      },
      "source": [
        "<a href=\"https://colab.research.google.com/github/adelino-dev/Katie-CienciaDeDados/blob/main/atividades/respostas/atividade01.ipynb\" target=\"_parent\"><img src=\"https://colab.research.google.com/assets/colab-badge.svg\" alt=\"Open In Colab\"/></a>"
      ]
    },
    {
      "cell_type": "markdown",
      "source": [
        "# Atividade 01 - Introdução ao Python\n",
        "Katie - Minicurso de Ciência de Dados\n",
        "\n",
        "Adelino Martins"
      ],
      "metadata": {
        "id": "xW9NultcLTTZ"
      }
    },
    {
      "cell_type": "markdown",
      "source": [
        "## Exercício 1\n",
        "\n",
        "Imprima na tela os números de 1 a 10. Use uma lista para armazenar os números."
      ],
      "metadata": {
        "id": "quY4WxBSrHvm"
      }
    },
    {
      "cell_type": "code",
      "source": [
        "numeros = [1, 2, 3, 4, 5, 6, 7, 8, 9, 10]\n",
        "\n",
        "for numero in numeros:\n",
        "  print(numero)"
      ],
      "metadata": {
        "colab": {
          "base_uri": "https://localhost:8080/"
        },
        "id": "P-II-0uY0tv1",
        "outputId": "c445944b-859a-4e71-b638-09d8554509d7"
      },
      "execution_count": null,
      "outputs": [
        {
          "output_type": "stream",
          "name": "stdout",
          "text": [
            "1\n",
            "2\n",
            "3\n",
            "4\n",
            "5\n",
            "6\n",
            "7\n",
            "8\n",
            "9\n",
            "10\n"
          ]
        }
      ]
    },
    {
      "cell_type": "markdown",
      "source": [
        "## Exercício 2\n",
        "\n",
        "Crie uma lista de 5 objetos e imprima-os na tela."
      ],
      "metadata": {
        "id": "QvsDqq3ErMij"
      }
    },
    {
      "cell_type": "code",
      "source": [
        "objetos = [\"lápis\", \"livro\", \"borracha\", \"pente\", \"teclado\"]\n",
        "\n",
        "for objeto in objetos:\n",
        "  print(objeto)"
      ],
      "metadata": {
        "colab": {
          "base_uri": "https://localhost:8080/"
        },
        "id": "Tu2cJTeg1kgS",
        "outputId": "8537a3ee-c814-4c2d-860f-13e89a674298"
      },
      "execution_count": null,
      "outputs": [
        {
          "output_type": "stream",
          "name": "stdout",
          "text": [
            "lápis\n",
            "livro\n",
            "borracha\n",
            "pente\n",
            "teclado\n"
          ]
        }
      ]
    },
    {
      "cell_type": "markdown",
      "source": [
        ""
      ],
      "metadata": {
        "id": "azrxbRPzrJKm"
      }
    },
    {
      "cell_type": "markdown",
      "source": [
        "## Exercício 3\n",
        " \n",
        "Crie duas strings e concatene as duas em uma terceira string."
      ],
      "metadata": {
        "id": "0yGJrZx72h8Y"
      }
    },
    {
      "cell_type": "code",
      "source": [
        "string1 = \"Data \"\n",
        "string2 = \"Science\"\n",
        "\n",
        "string3 = string1 + string2\n",
        "string3"
      ],
      "metadata": {
        "colab": {
          "base_uri": "https://localhost:8080/",
          "height": 35
        },
        "id": "vFSSRMt82vGd",
        "outputId": "6084b2f5-7e27-42f2-ff8e-32069eddaad8"
      },
      "execution_count": null,
      "outputs": [
        {
          "output_type": "execute_result",
          "data": {
            "text/plain": [
              "'Data Science'"
            ],
            "application/vnd.google.colaboratory.intrinsic+json": {
              "type": "string"
            }
          },
          "metadata": {},
          "execution_count": 12
        }
      ]
    },
    {
      "cell_type": "markdown",
      "source": [
        "## Exercício 4\n",
        "\n",
        "Crie uma tupla com os seguintes elementos: 1, 2, 2, 3, 4, 4, 4, 5 \n",
        "e depois utilize a função count do objeto tupla para verificar quantas vezes o número 4 aparece na tupla."
      ],
      "metadata": {
        "id": "n-uj9kLM3q-U"
      }
    },
    {
      "cell_type": "code",
      "source": [
        "tupla = (1, 2, 2, 3, 4, 4, 4, 5)\n",
        "tupla.count(4)"
      ],
      "metadata": {
        "colab": {
          "base_uri": "https://localhost:8080/"
        },
        "id": "oLsD-kr04Fbm",
        "outputId": "230c9dd0-dff5-4840-a7c1-04714fedcc6e"
      },
      "execution_count": null,
      "outputs": [
        {
          "output_type": "execute_result",
          "data": {
            "text/plain": [
              "3"
            ]
          },
          "metadata": {},
          "execution_count": 13
        }
      ]
    },
    {
      "cell_type": "markdown",
      "source": [
        "## Exercício 5\n",
        "\n",
        "Crie um dicionário vazio e imprima na tela."
      ],
      "metadata": {
        "id": "Y9H9fna04bQs"
      }
    },
    {
      "cell_type": "code",
      "source": [
        "dicionario = {}\n",
        "print(dicionario)"
      ],
      "metadata": {
        "colab": {
          "base_uri": "https://localhost:8080/"
        },
        "id": "waXTBTaI4lWD",
        "outputId": "cb486023-3214-4fd1-dcd9-556ea23f2e43"
      },
      "execution_count": null,
      "outputs": [
        {
          "output_type": "stream",
          "name": "stdout",
          "text": [
            "{}\n"
          ]
        }
      ]
    },
    {
      "cell_type": "markdown",
      "source": [
        "## Exercício 6\n",
        "\n",
        "Crie um dicionário com 3 chaves e 3 valores e imprima na tela."
      ],
      "metadata": {
        "id": "FZD2bEKD42K_"
      }
    },
    {
      "cell_type": "code",
      "source": [
        "dicionario = {\"key1\":\"value1\", \"key2\":\"value2\", \"key3\":\"value3\"}\n",
        "print(dicionario)"
      ],
      "metadata": {
        "colab": {
          "base_uri": "https://localhost:8080/"
        },
        "id": "i2e71wd_5E8q",
        "outputId": "09b4af57-1b28-4af6-c3f6-37b368d65abc"
      },
      "execution_count": null,
      "outputs": [
        {
          "output_type": "stream",
          "name": "stdout",
          "text": [
            "{'key1': 'value1', 'key2': 'value2', 'key3': 'value3'}\n"
          ]
        }
      ]
    },
    {
      "cell_type": "markdown",
      "source": [
        "## Exercício 7\n",
        "\n",
        "Adicione mais um elemento ao dicionário criado no exercício anterior e imprima na tela."
      ],
      "metadata": {
        "id": "bl2VdpML5bHu"
      }
    },
    {
      "cell_type": "code",
      "source": [
        "dicionario[\"key4\"] = \"value4\"\n",
        "print(dicionario)"
      ],
      "metadata": {
        "colab": {
          "base_uri": "https://localhost:8080/"
        },
        "id": "8V95bgP37iRR",
        "outputId": "1b95d918-cbde-486b-d37b-fea69f577e24"
      },
      "execution_count": null,
      "outputs": [
        {
          "output_type": "stream",
          "name": "stdout",
          "text": [
            "{'key1': 'value1', 'key2': 'value2', 'key3': 'value3', 'key4': 'value4'}\n"
          ]
        }
      ]
    },
    {
      "cell_type": "markdown",
      "source": [
        "## Exercício 8\n",
        "\n",
        "Crie um dicionário com 3 chaves e 3 valores. Um dos valores deve ser uma lista de 2 elementos numéricos. Imprima o dicionário na tela."
      ],
      "metadata": {
        "id": "A7pnFxd07xNh"
      }
    },
    {
      "cell_type": "code",
      "source": [
        "dic = {\"A\":1, \"B\":2, \"C\":[3, 4]}\n",
        "print(dic)"
      ],
      "metadata": {
        "colab": {
          "base_uri": "https://localhost:8080/"
        },
        "id": "sxt_vAXD7-B6",
        "outputId": "45f58ca7-2d64-4a8e-d143-f23abbecc0e7"
      },
      "execution_count": null,
      "outputs": [
        {
          "output_type": "stream",
          "name": "stdout",
          "text": [
            "{'A': 1, 'B': 2, 'C': [3, 4]}\n"
          ]
        }
      ]
    },
    {
      "cell_type": "markdown",
      "source": [
        "## Exercício 9\n",
        "\n",
        "Crie uma lista de 4 elementos. O primeiro elemento deve ser uma string, o segundo uma tupla de 2 elementos, o terceiro um dicionário com 2 chaves e 2 valores e o quarto elemento um valor do tipo float. Imprima a lista na tela."
      ],
      "metadata": {
        "id": "1Nvie1bQ9EW0"
      }
    },
    {
      "cell_type": "code",
      "source": [
        "bolsa = [\"caderno\", (\"lápis\", \"borracha\"), {\"caneta preta\":2, \"caneta azul\":1}, 1.22]\n",
        "print(bolsa)"
      ],
      "metadata": {
        "colab": {
          "base_uri": "https://localhost:8080/"
        },
        "id": "v8nt651o9TG3",
        "outputId": "a0014edc-a6a0-44d8-8051-c722cee12498"
      },
      "execution_count": null,
      "outputs": [
        {
          "output_type": "stream",
          "name": "stdout",
          "text": [
            "['caderno', ('lápis', 'borracha'), {'caneta preta': 2, 'caneta azul': 1}, 1.22]\n"
          ]
        }
      ]
    },
    {
      "cell_type": "markdown",
      "source": [
        "## Exercício 10 \n",
        "\n",
        "Considere a string abaixo. Imprima na tela apenas os caracteres da posição 1 a \n",
        "18.\n",
        "\n",
        "```python\n",
        "frase = 'Cientista de Dados é o profissional mais sexy do século XXI'\n",
        "```"
      ],
      "metadata": {
        "id": "cORSUJvO-v_5"
      }
    },
    {
      "cell_type": "code",
      "source": [
        "frase = 'Cientista de Dados é o profissional mais sexy do século XXI'\n",
        "print(frase[0:18])"
      ],
      "metadata": {
        "colab": {
          "base_uri": "https://localhost:8080/"
        },
        "id": "6djzDxh6-3Ko",
        "outputId": "16d2dbfd-643e-4464-b7e9-a256bcd47cc9"
      },
      "execution_count": null,
      "outputs": [
        {
          "output_type": "stream",
          "name": "stdout",
          "text": [
            "Cientista de Dados\n"
          ]
        }
      ]
    }
  ]
}